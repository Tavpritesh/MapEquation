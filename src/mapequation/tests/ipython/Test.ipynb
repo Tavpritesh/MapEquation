{
 "metadata": {
  "name": ""
 },
 "nbformat": 3,
 "nbformat_minor": 0,
 "worksheets": [
  {
   "cells": [
    {
     "cell_type": "code",
     "collapsed": false,
     "input": [
      "import networkx as nx\n",
      "%pylab inline "
     ],
     "language": "python",
     "metadata": {},
     "outputs": [
      {
       "output_type": "stream",
       "stream": "stdout",
       "text": [
        "Populating the interactive namespace from numpy and matplotlib\n"
       ]
      }
     ],
     "prompt_number": 1
    },
    {
     "cell_type": "code",
     "collapsed": false,
     "input": [
      "D = nx.DiGraph()\n",
      "D.add_nodes_from([1,2,3,4,5])\n",
      "D.add_edge(1,2, weight=9.0)\n",
      "D.add_edge(2,3, weight=10.0)\n",
      "D.add_edge(3,1, weight=10.0)\n",
      "D.add_edge(3,2, weight=10.0)\n",
      "D.add_edge(1,4, weight=1.0)\n",
      "D.add_edge(4,5, weight=1.0)\n",
      "D.add_edge(5,2, weight=1.0)\n",
      "D.add_edge(5,4, weight=1.0)\n",
      "nx.draw(D)"
     ],
     "language": "python",
     "metadata": {},
     "outputs": [
      {
       "metadata": {},
       "output_type": "display_data",
       "png": "[encoded data removed]",
       "text": [
        "<matplotlib.figure.Figure at 0x1071880d0>"
       ]
      }
     ],
     "prompt_number": 2
    },
    {
     "cell_type": "code",
     "collapsed": false,
     "input": [
      "scale = []\n",
      "W=nx.stochastic_graph(D, weight='weight')\n",
      "for u,v,edata in W.edges(data=True):\n",
      "    print u,v, edata\n",
      "\n",
      "p = dict.fromkeys(W, 0)\n",
      "personalization = dict.fromkeys(W, 0)\n",
      "sumW = sum([edata['weight'] for u, v, edata in D.edges(data=True)])\n",
      "\n",
      "for n in D.nodes():\n",
      "    personalization[n] = D.out_degree(n,weight='weight')/sumW\n",
      "pr = nx.pagerank(W, max_iter=100000, tol=1e-14, alpha=0.85, personalization=personalization)\n",
      "\n",
      "for u in W.nodes():\n",
      "    for v in nx.neighbors(W,u): \n",
      "        p[v] += W[u][v]['weight']*pr[u]\n",
      "\n",
      "# normalize vector\n",
      "s=1.0/sum(p.values())\n",
      "for k,v in p.iteritems():\n",
      "    p[k]*=s\n",
      "\n",
      "print pr\n",
      "print p"
     ],
     "language": "python",
     "metadata": {},
     "outputs": [
      {
       "output_type": "stream",
       "stream": "stdout",
       "text": [
        "1 2 {'weight': 0.9}\n",
        "1 4 {'weight': 0.1}\n",
        "2 3 {'weight': 1.0}\n",
        "3 1 {'weight': 0.5}\n",
        "3 2 {'weight': 0.5}\n",
        "4 5 {'weight': 1.0}\n",
        "5 2 {'weight': 0.5}\n",
        "5 4 {'weight': 0.5}\n",
        "{1: 0.19396863005382722, 2: 0.35829410749590934, 3: 0.37431743323198546, 4: 0.035915181098503418, 5: 0.037504648119774484}\n",
        "{1: 0.18715871661599273, 2: 0.38048280772432452, 3: 0.35829410749590934, 4: 0.038149187065269964, 5: 0.035915181098503418}\n"
       ]
      }
     ],
     "prompt_number": 17
    },
    {
     "cell_type": "code",
     "collapsed": false,
     "input": [
      "%load ../pagerank.py"
     ],
     "language": "python",
     "metadata": {},
     "outputs": [],
     "prompt_number": 24
    },
    {
     "cell_type": "code",
     "collapsed": false,
     "input": [
      "# -------------------------------------------------------------------------------\n",
      "# Copyright (c) 2014 Vincent Gauthier Telecom SudParis.\n",
      "#\n",
      "# Permission is hereby granted, free of charge, to any person obtaining\n",
      "# a copy of this software and associated documentation files (the\n",
      "# \"Software\"), to deal in the Software without restriction, including\n",
      "# without limitation the rights to use, copy, modify, merge, publish,\n",
      "# distribute, sublicense, and/or sell copies of the Software, and to\n",
      "# permit persons to whom the Software is furnished to do so, subject to\n",
      "# the following conditions:\n",
      "#\n",
      "# The above copyright notice and this permission notice shall be included\n",
      "# in all copies or substantial portions of the Software.\n",
      "#\n",
      "# THE SOFTWARE IS PROVIDED \"AS IS\", WITHOUT WARRANTY OF ANY KIND,\n",
      "# EXPRESS OR IMPLIED, INCLUDING BUT NOT LIMITED TO THE WARRANTIES OF\n",
      "# MERCHANTABILITY, FITNESS FOR A PARTICULAR PURPOSE AND NONINFRINGEMENT.\n",
      "# IN NO EVENT SHALL THE AUTHORS OR COPYRIGHT HOLDERS BE LIABLE FOR ANY\n",
      "# CLAIM, DAMAGES OR OTHER LIABILITY, WHETHER IN AN ACTION OF CONTRACT,\n",
      "# TORT OR OTHERWISE, ARISING FROM, OUT OF OR IN CONNECTION WITH THE\n",
      "# SOFTWARE OR THE USE OR OTHER DEALINGS IN THE SOFTWARE.\n",
      "# -------------------------------------------------------------------------------\n",
      "\n",
      "__author__ = \"\"\"\\n\"\"\".join(['Vincent Gauthier <vgauthier@luxbulb.org>'])\n",
      "\n",
      "import networkx as nx\n",
      "\n",
      "def pagerank(G, weight='weight', max_iter=100000, tol=1e-14, alpha=0.85):\n",
      "  # Init\n",
      "  W=nx.stochastic_graph(G, weight=weight)\n",
      "  personalization = dict.fromkeys(W, 0)\n",
      "  p = dict.fromkeys(W, 0)\n",
      "  sumW = sum([edata['weight'] for u,v,edata in G.edges(data=True)])\n",
      "\n",
      "  # Personalization Vector\n",
      "  for n in G.nodes():\n",
      "    personalization[n] = float(G.out_degree(n,weight='weight'))/sumW\n",
      "\n",
      "  # Classical PageRank Algorithm with personalization vector\n",
      "  pr = nx.pagerank(W,\n",
      "                   max_iter=max_iter,\n",
      "                   tol=tol,\n",
      "                   alpha=alpha,\n",
      "                   personalization=personalization)\n",
      "\n",
      "  # Final step: compute the unrecorded Teleportation\n",
      "  for u in W.nodes():\n",
      "    for v in nx.neighbors(W,u):\n",
      "      p[v] += W[u][v]['weight']*pr[u]\n",
      "\n",
      "  # normalize vector results\n",
      "  s=1.0/sum(p.values())\n",
      "  for k,v in p.iteritems():\n",
      "    p[k]*=s\n",
      "  return p"
     ],
     "language": "python",
     "metadata": {},
     "outputs": [],
     "prompt_number": 25
    },
    {
     "cell_type": "code",
     "collapsed": false,
     "input": [
      "pagerank(D)"
     ],
     "language": "python",
     "metadata": {},
     "outputs": [
      {
       "metadata": {},
       "output_type": "pyout",
       "prompt_number": 26,
       "text": [
        "{1: 0.18715871661599273,\n",
        " 2: 0.38048280772432452,\n",
        " 3: 0.35829410749590934,\n",
        " 4: 0.038149187065269964,\n",
        " 5: 0.035915181098503418}"
       ]
      }
     ],
     "prompt_number": 26
    },
    {
     "cell_type": "code",
     "collapsed": false,
     "input": [],
     "language": "python",
     "metadata": {},
     "outputs": []
    }
   ],
   "metadata": {}
  }
 ]
}