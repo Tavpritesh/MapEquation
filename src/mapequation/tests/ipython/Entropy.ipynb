{
 "metadata": {
  "name": ""
 },
 "nbformat": 3,
 "nbformat_minor": 0,
 "worksheets": [
  {
   "cells": [
    {
     "cell_type": "code",
     "collapsed": false,
     "input": [
      "import numpy as np "
     ],
     "language": "python",
     "metadata": {},
     "outputs": [],
     "prompt_number": 1
    },
    {
     "cell_type": "code",
     "collapsed": false,
     "input": [
      "t = 0.15\n",
      "\n",
      "# Module A\n",
      "pa = [0.162566977967] \n",
      "\n",
      "# Module B \n",
      "pb = [0.332, 0.313]\n",
      "\n",
      "# Module C\n",
      "pc = [0.103, 0.086]\n",
      "\n",
      "qa = t * sum(pa) + (1-t) * (0.163 * 0.9 + 0.163 * 0.1)\n",
      "qb = t * (3/4) * sum(pb) + (1-t) * (0.5* 0.313)\n",
      "qc = t * (3/4) * sum(pc) + (1-t) * (0.5* 0.103)\n",
      "\n",
      "par = qa + sum(pa)\n",
      "pbr = qb + sum(pb)\n",
      "pcr = qc + sum(pc)\n",
      "print par + pbr + pcr, 1 + (qa+qb+qc)  "
     ],
     "language": "python",
     "metadata": {},
     "outputs": [
      {
       "output_type": "stream",
       "stream": "stdout",
       "text": [
        "1.3368 1.3398\n"
       ]
      }
     ],
     "prompt_number": 4
    },
    {
     "cell_type": "code",
     "collapsed": false,
     "input": [
      "# Module A\n",
      "H1 = (qa/(qa+sum(pa))) * np.log2(qa/(qa+sum(pa))) \n",
      "H2 = 0.0\n",
      "for v in pa: \n",
      "    H2 += (v/(qa+sum(pa))) * np.log2( v/(qa+sum(pa)) ) \n",
      "print 'H1',  H1, 'H2',  H2, 'sum', (qa+sum(pa))\n",
      "Ha = (qa+sum(pa))*(H1+H2)\n",
      "print Ha\n",
      "\n",
      "# Module B\n",
      "H1 = (qb/(qb+sum(pb))) * np.log2(qb/(qb+sum(pb))) \n",
      "H2 = 0.0\n",
      "for v in pb: \n",
      "    H2 += (v/(qb+sum(pb))) * np.log2( v/(qb+sum(pb)) ) \n",
      "print 'H1',  H1, 'H2',  H2, 'sum', (qb+sum(pb))\n",
      "Hb = (qb+sum(pb))*(H1+H2)\n",
      "print Hb\n",
      "\n",
      "\n",
      "# Module C\n",
      "H1 = (qc/(qc+sum(pc))) * np.log2(qc/(qc+sum(pc)))\n",
      "H2 = 0.0\n",
      "for v in pc: \n",
      "    H2 += (v/(qc+sum(pc))) * np.log2( v/(qc+sum(pc)) ) \n",
      "print 'H1',  H1, 'H2',  H2, 'sum', (qc+sum(pc))\n",
      "Hc = (qc+sum(pc))*(H1+H2)\n",
      "print Hc\n",
      "\n",
      "\n",
      "LM_i = 0.0\n",
      "for q in [qa, qb, qc]: \n",
      "    LM_i += ((q/(qa+qb+qc)) * np.log2(q/(qa+qb+qc)))\n",
      "LM = ((qa+qb+qc) * LM_i) + Ha + Hb + Hc \n",
      "\n",
      "print 'LM', LM, 'left', (qa+qb+qc) * LM_i,  'LM_i', LM_i, 'right', Ha , Hb, Hc ,  Ha + Hb+ Hc"
     ],
     "language": "python",
     "metadata": {},
     "outputs": [
      {
       "output_type": "stream",
       "stream": "stdout",
       "text": [
        "H1 -0.5 H2 -0.5 sum 0.326\n",
        "-0.326\n",
        "H1 -0.435671790255 H2 -1.05276810302 sum 0.778025\n",
        "-1.15804344797\n",
        "H1 -0.453360065812 H2 -1.05122725205 sum 0.232775\n",
        "-0.350230312915\n",
        "LM -2.31642579687 left -0.482152035985 LM_i -1.41892888754 right -0.326 -1.15804344797 -0.350230312915 -1.83427376088\n"
       ]
      }
     ],
     "prompt_number": 11
    },
    {
     "cell_type": "code",
     "collapsed": false,
     "input": [
      "t = 0.15\n",
      "\n",
      "# Module A\n",
      "pa = [0.162566977967, 0.331673293832, 0.311922299096] \n",
      "\n",
      "# Module B \n",
      "pb = [0.105276656626, 0.0885607724787]\n",
      "\n",
      "qa = t * (2.0/4) * sum(pa) + (1-t) * (0.162566977967 * 0.1)\n",
      "qb = t * (3.0/4) * sum(pb) + (1-t) * (0.5 * 0.105276656626)\n",
      "\n",
      "par = qa + sum(pa)\n",
      "pbr = qb + sum(pb)\n",
      "print par + pbr, 1 + (qa+qb)  "
     ],
     "language": "python",
     "metadata": {},
     "outputs": [
      {
       "output_type": "stream",
       "stream": "stdout",
       "text": [
        "1.14082967578 1.14082967578\n"
       ]
      }
     ],
     "prompt_number": 25
    },
    {
     "cell_type": "code",
     "collapsed": false,
     "input": [
      "# Module A\n",
      "H1 = (qa/(qa+sum(pa))) * np.log2(qa/(qa+sum(pa))) \n",
      "H2 = 0.0\n",
      "for v in pa: \n",
      "    H2 += (v/(qa+sum(pa))) * np.log2( v/(qa+sum(pa)) ) \n",
      "print 'H1',  H1, 'H2',  H2, 'sum', (qa+sum(pa))\n",
      "Ha = (qa+sum(pa))*(H1+H2)\n",
      "print Ha\n",
      "\n",
      "# Module B\n",
      "H1 = (qb/(qb+sum(pb))) * np.log2(qb/(qb+sum(pb))) \n",
      "H2 = 0.0\n",
      "for v in pb: \n",
      "    H2 += (v/(qb+sum(pb))) * np.log2( v/(qb+sum(pb)) ) \n",
      "print 'H1',  H1, 'H2',  H2, 'sum', (qb+sum(pb))\n",
      "Hb = (qb+sum(pb))*(H1+H2)\n",
      "print Hb\n",
      "\n",
      "LM_i = 0.0\n",
      "for q in [qa, qb]: \n",
      "    LM_i += ((q/(qa+qb)) * np.log2(q/(qa+qb)))\n",
      "LM = ((qa+qb) * LM_i) + Ha + Hb\n",
      "\n",
      "print 'LM', LM, 'left', (qa+qb) * LM_i,  'LM_i', LM_i, 'right', Ha , Hb,  Ha + Hb"
     ],
     "language": "python",
     "metadata": {},
     "outputs": [
      {
       "output_type": "stream",
       "stream": "stdout",
       "text": [
        "H1 -0.300952187424 H2 -1.51096592269 sum 0.880442956839\n",
        "-1.59529053842\n",
        "H1 -0.503019880228 H2 -1.05740400862 sum 0.260386718945\n",
        "-0.40631365658\n",
        "LM -2.14212756806 left -0.140523373066 LM_i -0.997825012965 right -1.59529053842 -0.40631365658 -2.001604195\n"
       ]
      }
     ],
     "prompt_number": 26
    },
    {
     "cell_type": "code",
     "collapsed": false,
     "input": [
      "v= [0.380483, 0.358294, 0.187159, 0.0381492, 0.0359152]\n",
      "sum(v)"
     ],
     "language": "python",
     "metadata": {},
     "outputs": [
      {
       "metadata": {},
       "output_type": "pyout",
       "prompt_number": 27,
       "text": [
        "1.0000004"
       ]
      }
     ],
     "prompt_number": 27
    },
    {
     "cell_type": "code",
     "collapsed": false,
     "input": [
      "t = 0.15\n",
      "\n",
      "# Module A\n",
      "pa = [0.187159, 0.380483, 0.358294] \n",
      "\n",
      "# Module B \n",
      "pb = [0.0381492, 0.0359152]\n",
      "\n",
      "weight_tot=sum([9.0, 10.0, 10.0, 10.0, 1.0, 1.0, 1.0, 1.0])\n",
      "\n",
      "qa = t * (2.0/5) * sum(pa) + (1.0-t) * (0.187159 * 0.1)\n",
      "qb = t * (3.0/5) * sum(pb) + (1.0-t) * (0.5 * 0.0359152)\n",
      "\n",
      "par = qa + sum(pa)\n",
      "pbr = qb + sum(pb)\n",
      "print par + pbr, 1 + (qa+qb), sum(pa),qa, sum(pb), qb"
     ],
     "language": "python",
     "metadata": {},
     "outputs": [
      {
       "output_type": "stream",
       "stream": "stdout",
       "text": [
        "1.093394831 1.093394431 0.925936 0.071464675 0.0740644 0.021929756\n"
       ]
      }
     ],
     "prompt_number": 6
    },
    {
     "cell_type": "code",
     "collapsed": false,
     "input": [
      "qa = 0.0193969\n",
      "qb = 0.0187523\n",
      "# Module A\n",
      "H1 = (qa/(qa+sum(pa))) * np.log2(qa/(qa+sum(pa))) \n",
      "H2 = 0.0\n",
      "for v in pa: \n",
      "    H2 += (v/(qa+sum(pa))) * np.log2( v/(qa+sum(pa)) ) \n",
      "print 'H1',  H1, 'H2',  H2, 'sum', (qa+sum(pa))\n",
      "Ha = (qa+sum(pa))*(H1+H2)\n",
      "print Ha\n",
      "\n",
      "# Module B\n",
      "H1 = (qb/(qb+sum(pb))) * np.log2(qb/(qb+sum(pb))) \n",
      "H2 = 0.0\n",
      "for v in pb: \n",
      "    H2 += (v/(qb+sum(pb))) * np.log2( v/(qb+sum(pb)) ) \n",
      "print 'H1',  H1, 'H2',  H2, 'sum', (qb+sum(pb))\n",
      "Hb = (qb+sum(pb))*(H1+H2)\n",
      "print Hb\n",
      "\n",
      "LM_i = 0.0\n",
      "for q in [qa, qb]: \n",
      "    LM_i += ((q/(qa+qb)) * np.log2(q/(qa+qb)))\n",
      "LM = ((qa+qb) * LM_i) + Ha + Hb\n",
      "\n",
      "print 'LM', LM, 'left', (qa+qb) * LM_i,  'LM_i', LM_i, 'right', Ha , Hb,  Ha + Hb"
     ],
     "language": "python",
     "metadata": {},
     "outputs": [
      {
       "output_type": "stream",
       "stream": "stdout",
       "text": [
        "H1 -0.115046194901 H2 -1.5215537899 sum 0.9453329\n",
        "-1.54713180977\n",
        "H1 -0.466160699079 H2 -1.05726082721 sum 0.0928167\n",
        "-0.141398958779\n",
        "LM -1.72667211148 left -0.0381413429344 LM_i -0.999794043766 right -1.54713180977 -0.141398958779 -1.68853076855\n"
       ]
      }
     ],
     "prompt_number": 19
    },
    {
     "cell_type": "markdown",
     "metadata": {},
     "source": [
      "# Test PageRank on the test graph "
     ]
    },
    {
     "cell_type": "code",
     "collapsed": false,
     "input": [
      "import networkx as nx\n",
      "weight_tot=sum([9.0, 10.0, 10.0, 10.0, 1.0, 1.0, 1.0, 1.0])\n",
      "weight_tot =1.0\n",
      "G1 = nx.DiGraph()\n",
      "G1.add_nodes_from([1,2,3,4,5])\n",
      "G1.add_edge(1,2, weight=9.0/weight_tot)\n",
      "G1.add_edge(2,3, weight=10.0/weight_tot)\n",
      "G1.add_edge(3,1, weight=10.0/weight_tot)\n",
      "G1.add_edge(3,2, weight=10.0/weight_tot)\n",
      "G1.add_edge(1,4, weight=1.0/weight_tot)\n",
      "G1.add_edge(4,5, weight=1.0/weight_tot)\n",
      "G1.add_edge(5,2, weight=1.0/weight_tot)\n",
      "G1.add_edge(5,4, weight=1.0/weight_tot)\n",
      "\n",
      "nx.pagerank(G1, tol=0.00000000001, weight='weight')\n",
      "\n"
     ],
     "language": "python",
     "metadata": {},
     "outputs": [
      {
       "metadata": {},
       "output_type": "pyout",
       "prompt_number": 8,
       "text": [
        "{1: 0.1625669775410158,\n",
        " 2: 0.3316732942320617,\n",
        " 3: 0.31192230009420474,\n",
        " 4: 0.08856077196327639,\n",
        " 5: 0.10527665616944135}"
       ]
      }
     ],
     "prompt_number": 8
    },
    {
     "cell_type": "code",
     "collapsed": false,
     "input": [
      "0.9*0.187159"
     ],
     "language": "python",
     "metadata": {},
     "outputs": [
      {
       "metadata": {},
       "output_type": "pyout",
       "prompt_number": 27,
       "text": [
        "0.16844309999999998"
       ]
      }
     ],
     "prompt_number": 27
    },
    {
     "cell_type": "code",
     "collapsed": false,
     "input": [
      "0.1*0.187159"
     ],
     "language": "python",
     "metadata": {},
     "outputs": [
      {
       "metadata": {},
       "output_type": "pyout",
       "prompt_number": 28,
       "text": [
        "0.0187159"
       ]
      }
     ],
     "prompt_number": 28
    },
    {
     "cell_type": "code",
     "collapsed": false,
     "input": [
      "9*3*3 - 3"
     ],
     "language": "python",
     "metadata": {},
     "outputs": [
      {
       "metadata": {},
       "output_type": "pyout",
       "prompt_number": 31,
       "text": [
        "78"
       ]
      }
     ],
     "prompt_number": 31
    },
    {
     "cell_type": "code",
     "collapsed": false,
     "input": [
      "0.18*0.1*0.85"
     ],
     "language": "python",
     "metadata": {},
     "outputs": [
      {
       "metadata": {},
       "output_type": "pyout",
       "prompt_number": 37,
       "text": [
        "0.015299999999999998"
       ]
      }
     ],
     "prompt_number": 37
    },
    {
     "cell_type": "code",
     "collapsed": false,
     "input": [],
     "language": "python",
     "metadata": {},
     "outputs": []
    }
   ],
   "metadata": {}
  }
 ]
}