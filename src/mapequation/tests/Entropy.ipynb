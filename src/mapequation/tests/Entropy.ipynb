{
 "metadata": {
  "name": ""
 },
 "nbformat": 3,
 "nbformat_minor": 0,
 "worksheets": [
  {
   "cells": [
    {
     "cell_type": "code",
     "collapsed": false,
     "input": [
      "import numpy as np "
     ],
     "language": "python",
     "metadata": {},
     "outputs": [],
     "prompt_number": 3
    },
    {
     "cell_type": "code",
     "collapsed": false,
     "input": [
      "t = 0.15\n",
      "\n",
      "# Module A\n",
      "pa = [0.163] \n",
      "\n",
      "# Module B \n",
      "pb = [0.332, 0.313]\n",
      "\n",
      "# Module C\n",
      "pc = [0.103, 0.086]\n",
      "\n",
      "qa = t * sum(pa) + (1-t) * (0.163 * 0.9 + 0.163 * 0.1)\n",
      "qb = t * (3/4) * sum(pb) + (1-t) * (0.5* 0.313)\n",
      "qc = t * (3/4) * sum(pc) + (1-t) * (0.5* 0.103)\n",
      "\n",
      "par = qa + sum(pa)\n",
      "pbr = qb + sum(pb)\n",
      "pcr = qc + sum(pc)\n",
      "print par + pbr + pcr, 1 + (qa+qb+qc)  "
     ],
     "language": "python",
     "metadata": {},
     "outputs": [
      {
       "output_type": "stream",
       "stream": "stdout",
       "text": [
        "1.3368 1.3398\n"
       ]
      }
     ],
     "prompt_number": 4
    },
    {
     "cell_type": "code",
     "collapsed": false,
     "input": [
      "# Module A\n",
      "H1 = (qa/(qa+sum(pa))) * np.log2(qa/(qa+sum(pa))) \n",
      "H2 = 0.0\n",
      "for v in pa: \n",
      "    H2 += (v/(qa+sum(pa))) * np.log2( v/(qa+sum(pa)) ) \n",
      "print 'H1',  H1, 'H2',  H2, 'sum', (qa+sum(pa))\n",
      "Ha = (qa+sum(pa))*(H1+H2)\n",
      "print Ha\n",
      "\n",
      "# Module B\n",
      "H1 = (qb/(qb+sum(pb))) * np.log2(qb/(qb+sum(pb))) \n",
      "H2 = 0.0\n",
      "for v in pb: \n",
      "    H2 += (v/(qb+sum(pb))) * np.log2( v/(qb+sum(pb)) ) \n",
      "print 'H1',  H1, 'H2',  H2, 'sum', (qb+sum(pb))\n",
      "Hb = (qb+sum(pb))*(H1+H2)\n",
      "print Hb\n",
      "\n",
      "\n",
      "# Module C\n",
      "H1 = (qc/(qc+sum(pc))) * np.log2(qc/(qc+sum(pc)))\n",
      "H2 = 0.0\n",
      "for v in pc: \n",
      "    H2 += (v/(qc+sum(pc))) * np.log2( v/(qc+sum(pc)) ) \n",
      "print 'H1',  H1, 'H2',  H2, 'sum', (qc+sum(pc))\n",
      "Hc = (qc+sum(pc))*(H1+H2)\n",
      "print Hc\n",
      "\n",
      "\n",
      "LM_i = 0.0\n",
      "for q in [qa, qb, qc]: \n",
      "    LM_i += ((q/(qa+qb+qc)) * np.log2(q/(qa+qb+qc)))\n",
      "LM = ((qa+qb+qc) * LM_i) + Ha + Hb + Hc \n",
      "\n",
      "print 'LM', LM, 'left', (qa+qb+qc) * LM_i,  'LM_i', LM_i, 'right', Ha , Hb, Hc ,  Ha + Hb+ Hc"
     ],
     "language": "python",
     "metadata": {},
     "outputs": [
      {
       "output_type": "stream",
       "stream": "stdout",
       "text": [
        "H1 -0.5 H2 -0.5 sum 0.326\n",
        "-0.326\n",
        "H1 -0.435671790255 H2 -1.05276810302 sum 0.778025\n",
        "-1.15804344797\n",
        "H1 -0.453360065812 H2 -1.05122725205 sum 0.232775\n",
        "-0.350230312915\n",
        "LM -2.31642579687 left -0.482152035985 LM_i -1.41892888754 right -0.326 -1.15804344797 -0.350230312915 -1.83427376088\n"
       ]
      }
     ],
     "prompt_number": 11
    },
    {
     "cell_type": "code",
     "collapsed": false,
     "input": [
      "t = 0.15\n",
      "\n",
      "# Module A\n",
      "pa = [0.163, 0.332, 0.313] \n",
      "\n",
      "# Module B \n",
      "pb = [0.103, 0.086]\n",
      "\n",
      "qa = t * (2/4) * sum(pa) + (1-t) * (0.163 * 0.1)\n",
      "qb = t * (3/4) * sum(pb) + (1-t) * (0.5 * 0.103)\n",
      "\n",
      "par = qa + sum(pa)\n",
      "pbr = qb + sum(pb)\n",
      "print par + pbr, 1 + (qa+qb)  "
     ],
     "language": "python",
     "metadata": {},
     "outputs": [
      {
       "output_type": "stream",
       "stream": "stdout",
       "text": [
        "1.05463 1.05763\n"
       ]
      }
     ],
     "prompt_number": 17
    },
    {
     "cell_type": "code",
     "collapsed": false,
     "input": [
      "# Module A\n",
      "H1 = (qa/(qa+sum(pa))) * np.log2(qa/(qa+sum(pa))) \n",
      "H2 = 0.0\n",
      "for v in pa: \n",
      "    H2 += (v/(qa+sum(pa))) * np.log2( v/(qa+sum(pa)) ) \n",
      "print 'H1',  H1, 'H2',  H2, 'sum', (qa+sum(pa))\n",
      "Ha = (qa+sum(pa))*(H1+H2)\n",
      "print Ha\n",
      "\n",
      "# Module B\n",
      "H1 = (qb/(qb+sum(pb))) * np.log2(qb/(qb+sum(pb))) \n",
      "H2 = 0.0\n",
      "for v in pb: \n",
      "    H2 += (v/(qb+sum(pb))) * np.log2( v/(qb+sum(pb)) ) \n",
      "print 'H1',  H1, 'H2',  H2, 'sum', (qb+sum(pb))\n",
      "Hb = (qb+sum(pb))*(H1+H2)\n",
      "print Hb\n",
      "\n",
      "LM_i = 0.0\n",
      "for q in [qa, qb]: \n",
      "    LM_i += ((q/(qa+qb)) * np.log2(q/(qa+qb)))\n",
      "LM = ((qa+qb) * LM_i) + Ha + Hb\n",
      "\n",
      "print 'LM', LM, 'left', (qa+qb) * LM_i,  'LM_i', LM_i, 'right', Ha , Hb,  Ha + Hb"
     ],
     "language": "python",
     "metadata": {},
     "outputs": [
      {
       "output_type": "stream",
       "stream": "stdout",
       "text": [
        "H1 -0.0993016589956 H2 -1.5215850705 sum 0.821855\n",
        "-1.33213386307\n",
        "H1 -0.453360065812 H2 -1.05122725205 sum 0.232775\n",
        "-0.350230312915\n",
        "LM -1.728221887 left -0.0458577110125 LM_i -0.795726375369 right -1.33213386307 -0.350230312915 -1.68236417599\n"
       ]
      }
     ],
     "prompt_number": 18
    },
    {
     "cell_type": "code",
     "collapsed": false,
     "input": [],
     "language": "python",
     "metadata": {},
     "outputs": []
    }
   ],
   "metadata": {}
  }
 ]
}