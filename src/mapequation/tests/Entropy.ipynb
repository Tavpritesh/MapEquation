{
 "metadata": {
  "name": ""
 },
 "nbformat": 3,
 "nbformat_minor": 0,
 "worksheets": [
  {
   "cells": [
    {
     "cell_type": "code",
     "collapsed": false,
     "input": [
      "import numpy as np "
     ],
     "language": "python",
     "metadata": {},
     "outputs": [],
     "prompt_number": 3
    },
    {
     "cell_type": "code",
     "collapsed": false,
     "input": [
      "t = 0.15\n",
      "\n",
      "# Module A\n",
      "pa = [0.163] \n",
      "\n",
      "# Module B \n",
      "pb = [0.332, 0.313]\n",
      "\n",
      "# Module C\n",
      "pc = [0.103, 0.086]\n",
      "\n",
      "qa = t * sum(pa) + (1-t) * (0.163 * 0.9 + 0.163 * 0.1)\n",
      "qb = t * (3/4) * sum(pb) + (1-t) * (0.5* 0.313)\n",
      "qc = t * (3/4) * sum(pc) + (1-t) * (0.5* 0.103)\n",
      "\n",
      "par = qa + sum(pa)\n",
      "pbr = qb + sum(pb)\n",
      "pcr = qc + sum(pc)\n",
      "print par + pbr + pcr, 1 + (qa+qb+qc)  "
     ],
     "language": "python",
     "metadata": {},
     "outputs": [
      {
       "output_type": "stream",
       "stream": "stdout",
       "text": [
        "1.3368 1.3398\n"
       ]
      }
     ],
     "prompt_number": 4
    },
    {
     "cell_type": "code",
     "collapsed": false,
     "input": [
      "# Module A\n",
      "H1 = (qa/(qa+sum(pa))) * np.log2(qa/(qa+sum(pa))) \n",
      "H2 = 0.0\n",
      "for v in pa: \n",
      "    H2 += (v/(qa+sum(pa))) * np.log2( v/(qa+sum(pa)) ) \n",
      "print 'H1',  H1, 'H2',  H2, 'sum', (qa+sum(pa))\n",
      "Ha = (qa+sum(pa))*(H1+H2)\n",
      "print Ha\n",
      "\n",
      "# Module B\n",
      "H1 = (qb/(qb+sum(pb))) * np.log2(qb/(qb+sum(pb))) \n",
      "H2 = 0.0\n",
      "for v in pb: \n",
      "    H2 += (v/(qb+sum(pb))) * np.log2( v/(qb+sum(pb)) ) \n",
      "print 'H1',  H1, 'H2',  H2, 'sum', (qb+sum(pb))\n",
      "Hb = (qb+sum(pb))*(H1+H2)\n",
      "print Hb\n",
      "\n",
      "\n",
      "# Module C\n",
      "H1 = (qc/(qc+sum(pc))) * np.log2(qc/(qc+sum(pc)))\n",
      "H2 = 0.0\n",
      "for v in pc: \n",
      "    H2 += (v/(qc+sum(pc))) * np.log2( v/(qc+sum(pc)) ) \n",
      "print 'H1',  H1, 'H2',  H2, 'sum', (qc+sum(pc))\n",
      "Hc = (qc+sum(pc))*(H1+H2)\n",
      "print Hc\n",
      "\n",
      "\n",
      "LM_i = 0.0\n",
      "for q in [qa, qb, qc]: \n",
      "    LM_i += ((q/(qa+qb+qc)) * np.log2(q/(qa+qb+qc)))\n",
      "LM = ((qa+qb+qc) * LM_i) + Ha + Hb + Hc \n",
      "\n",
      "print 'LM', LM, 'left', (qa+qb+qc) * LM_i,  'LM_i', LM_i, 'right', Ha , Hb, Hc ,  Ha + Hb+ Hc"
     ],
     "language": "python",
     "metadata": {},
     "outputs": [
      {
       "output_type": "stream",
       "stream": "stdout",
       "text": [
        "H1 -0.5 H2 -0.5 sum 0.326\n",
        "-0.326\n",
        "H1 -0.435671790255 H2 -1.05276810302 sum 0.778025\n",
        "-1.15804344797\n",
        "H1 -0.453360065812 H2 -1.05122725205 sum 0.232775\n",
        "-0.350230312915\n",
        "LM -2.31642579687 left -0.482152035985 LM_i -1.41892888754 right -0.326 -1.15804344797 -0.350230312915 -1.83427376088\n"
       ]
      }
     ],
     "prompt_number": 11
    },
    {
     "cell_type": "code",
     "collapsed": false,
     "input": [
      "(0.16314039929/0.3398) * np.log2(0.16314039929/0.3398) + (0.13314039849/0.3398) * np.log2(0.13314039849/0.3398) + (0.0440571856203/0.3398) * np.log2(0.0440571856203/0.3398)"
     ],
     "language": "python",
     "metadata": {},
     "outputs": [
      {
       "metadata": {},
       "output_type": "pyout",
       "prompt_number": 64,
       "text": [
        "-1.4199930396854044"
       ]
      }
     ],
     "prompt_number": 64
    },
    {
     "cell_type": "code",
     "collapsed": false,
     "input": [
      "sum([0.163140399293, 0.13314039849, 0.0440571856203])"
     ],
     "language": "python",
     "metadata": {},
     "outputs": [
      {
       "metadata": {},
       "output_type": "pyout",
       "prompt_number": 61,
       "text": [
        "0.34033798340329996"
       ]
      }
     ],
     "prompt_number": 61
    },
    {
     "cell_type": "code",
     "collapsed": false,
     "input": [
      "qa,qb,qc "
     ],
     "language": "python",
     "metadata": {},
     "outputs": [
      {
       "metadata": {},
       "output_type": "pyout",
       "prompt_number": 62,
       "text": [
        "(0.163, 0.133025, 0.043774999999999994)"
       ]
      }
     ],
     "prompt_number": 62
    },
    {
     "cell_type": "code",
     "collapsed": false,
     "input": [
      "print (0.08666348954601732/0.234384641332)*np.log2(0.08666348954601732/0.234384641332)\n",
      "print (0.10366396616550808/0.234384641332)*np.log2(0.10366396616550808/0.234384641332)"
     ],
     "language": "python",
     "metadata": {},
     "outputs": [
      {
       "output_type": "stream",
       "stream": "stdout",
       "text": [
        "-0.530731003339\n",
        "-0.520549076192\n"
       ]
      }
     ],
     "prompt_number": 7
    },
    {
     "cell_type": "code",
     "collapsed": false,
     "input": [],
     "language": "python",
     "metadata": {},
     "outputs": []
    }
   ],
   "metadata": {}
  }
 ]
}